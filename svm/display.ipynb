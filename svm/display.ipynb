{
 "cells": [
  {
   "cell_type": "markdown",
   "id": "4b8c5289",
   "metadata": {},
   "source": [
    "# The ipynb file tests and display the results form .py files"
   ]
  },
  {
   "cell_type": "code",
   "execution_count": 1,
   "id": "530af76a",
   "metadata": {},
   "outputs": [],
   "source": [
    "#%%\n",
    "\n",
    "%load_ext autoreload\n",
    "%autoreload 2\n",
    "\n",
    "\n",
    "import numpy as np\n",
    "import numpy.random as rd\n",
    "from scipy import stats\n",
    "import synthetic_data as sdata"
   ]
  },
  {
   "cell_type": "code",
   "execution_count": 3,
   "id": "e6d46a09",
   "metadata": {
    "scrolled": true
   },
   "outputs": [
    {
     "name": "stdout",
     "output_type": "stream",
     "text": [
      "test_data has shape: (29, 55)\n",
      "cost has shape: (29, 2)\n",
      "\n",
      "first vector in data set:\n",
      " [ 3. 20. 11. 12. 14.  2.  0.  4.  1.  0.  4.  1.  4.  4.  2.  3.  1.  0.\n",
      "  1.  3.  1.  1.  4.  4.  2.  1.  0.  3.  3.  1.  1.  2.  4.  1.  1.  0.\n",
      "  1.  0.  1.  3.  2.  0.  3.  1.  2.  2.  3.  1.  1.  3.  1.  2.  4.  4.\n",
      "  2.]\n",
      "\n",
      "first ten element in cost vector:\n",
      " [[ 8  0]\n",
      " [53  0]\n",
      " [70  0]\n",
      " [58  0]\n",
      " [63  0]\n",
      " [90  0]\n",
      " [84  0]\n",
      " [17  1]\n",
      " [29  1]\n",
      " [46  1]\n",
      " [83  1]\n",
      " [82  1]\n",
      " [69  2]\n",
      " [68  2]\n",
      " [62  2]\n",
      " [84  2]\n",
      " [70  2]\n",
      " [39  2]\n",
      " [75  3]\n",
      " [64  3]\n",
      " [73  4]\n",
      " [13  4]\n",
      " [35  4]\n",
      " [25  4]\n",
      " [84  4]\n",
      " [35  4]\n",
      " [23  4]\n",
      " [90  4]\n",
      " [41  4]]\n",
      "the index for problems:  [ 0  7 12 18 20 29]\n"
     ]
    }
   ],
   "source": [
    "np.random.seed(1)\n",
    "# p_index, test_data, cost = sdata.create_synthetic_data(25, 7, 100, 5, 64, 23, 3)\n",
    "p_index, test_data, cost = sdata.create_synthetic_data(5, 5, 100, 2, 10, 23, 3)\n",
    "print(f\"test_data has shape: {test_data.shape}\\ncost has shape: {cost.shape}\\n\")\n",
    "print(\"first vector in data set:\\n\",np.round(test_data[0]))\n",
    "cost_display = cost[0:min(len(cost),10)]\n",
    "print(\"\\nfirst ten element in cost vector:\\n\",cost)\n",
    "print(\"the index for problems: \",p_index)\n",
    "\n",
    "# print(p_index)\n",
    "# print(np.round(test_data))\n",
    "# print(cost)\n"
   ]
  },
  {
   "cell_type": "code",
   "execution_count": 4,
   "id": "c5d31feb",
   "metadata": {},
   "outputs": [
    {
     "data": {
      "image/png": "[encoded data removed]",
      "text/plain": [
       "<Figure size 640x480 with 1 Axes>"
      ]
     },
     "metadata": {},
     "output_type": "display_data"
    },
    {
     "name": "stdout",
     "output_type": "stream",
     "text": [
      "Performance of ranking  0.9787878787878788\n",
      "Performance of linear regression  0.9587570621468926\n"
     ]
    }
   ],
   "source": [
    "\"\"\"\n",
    "https://gist.github.com/agramfort/2071994\n",
    "\n",
    "Implementation of pairwise ranking using scikit-learn LinearSVC\n",
    "Reference: \"Large Margin Rank Boundaries for Ordinal Regression\", R. Herbrich,\n",
    "    T. Graepel, K. Obermayer.\n",
    "Authors: Fabian Pedregosa <fabian@fseoane.net>\n",
    "         Alexandre Gramfort <alexandre.gramfort@inria.fr>\n",
    "\"\"\"\n",
    "\n",
    "import itertools\n",
    "import numpy as np\n",
    "\n",
    "from sklearn import svm, linear_model\n",
    "from sklearn.model_selection import KFold\n",
    "\n",
    "\n",
    "def transform_pairwise(X, y):\n",
    "    \"\"\"Transforms data into pairs with balanced labels for ranking\n",
    "    Transforms a n-class ranking problem into a two-class classification\n",
    "    problem. Subclasses implementing particular strategies for choosing\n",
    "    pairs should override this method.\n",
    "    In this method, all pairs are choosen, except for those that have the\n",
    "    same target value. The output is an array of balanced classes, i.e.\n",
    "    there are the same number of -1 as +1\n",
    "    Parameters\n",
    "    ----------\n",
    "    X : array, shape (n_samples, n_features)\n",
    "        The data\n",
    "    y : array, shape (n_samples,) or (n_samples, 2)\n",
    "        Target labels. If it's a 2D array, the second column represents\n",
    "        the grouping of samples, i.e., samples with different groups will\n",
    "        not be considered.\n",
    "    Returns\n",
    "    -------\n",
    "    X_trans : array, shape (k, n_feaures)\n",
    "        Data as pairs\n",
    "    y_trans : array, shape (k,)\n",
    "        Output class labels, where classes have values {-1, +1}\n",
    "    \"\"\"\n",
    "    X_new = []\n",
    "    y_new = []\n",
    "    y = np.asarray(y)\n",
    "    if y.ndim == 1:\n",
    "        y = np.c_[y, np.ones(y.shape[0])]\n",
    "    comb = itertools.combinations(range(X.shape[0]), 2)\n",
    "    for k, (i, j) in enumerate(comb):\n",
    "        if y[i, 0] == y[j, 0] or y[i, 1] != y[j, 1]:\n",
    "            # skip if same target or different group\n",
    "            continue\n",
    "        X_new.append(X[i] - X[j])\n",
    "        y_new.append(np.sign(y[i, 0] - y[j, 0]))\n",
    "#         output balanced classes\n",
    "        if y_new[-1] != (-1) ** k:\n",
    "            y_new[-1] = - y_new[-1]\n",
    "            X_new[-1] = - X_new[-1]\n",
    "    return np.asarray(X_new), np.asarray(y_new).ravel()\n",
    "\n",
    "\n",
    "class RankSVM(svm.LinearSVC):\n",
    "    \"\"\"Performs pairwise ranking with an underlying LinearSVC model\n",
    "    Input should be a n-class ranking problem, this object will convert it\n",
    "    into a two-class classification problem, a setting known as\n",
    "    `pairwise ranking`.\n",
    "    See object :ref:`svm.LinearSVC` for a full description of parameters.\n",
    "    \"\"\"\n",
    "\n",
    "    def fit(self, X, y):\n",
    "        \"\"\"\n",
    "        Fit a pairwise ranking model.\n",
    "        Parameters\n",
    "        ----------\n",
    "        X : array, shape (n_samples, n_features)\n",
    "        y : array, shape (n_samples,) or (n_samples, 2)\n",
    "        Returns\n",
    "        -------\n",
    "        self\n",
    "        \"\"\"\n",
    "        X_trans, y_trans = transform_pairwise(X, y)\n",
    "        super(RankSVM, self).fit(X_trans, y_trans)\n",
    "        return self\n",
    "\n",
    "    def predict(self, X):\n",
    "        \"\"\"\n",
    "        Predict an ordering on X. For a list of n samples, this method\n",
    "        returns a list from 0 to n-1 with the relative order of the rows of X.\n",
    "        Parameters\n",
    "        ----------\n",
    "        X : array, shape (n_samples, n_features)\n",
    "        Returns\n",
    "        -------\n",
    "        ord : array, shape (n_samples,)\n",
    "            Returns a list of integers representing the relative order of\n",
    "            the rows in X.\n",
    "        \"\"\"\n",
    "        if hasattr(self, 'coef_'):\n",
    "            return np.argsort(np.dot(X, self.coef_.T).flatten())\n",
    "        else:\n",
    "            raise ValueError(\"Must call fit() prior to predict()\")\n",
    "\n",
    "    def score(self, X, y):\n",
    "        \"\"\"\n",
    "        Because we transformed into a pairwise problem, chance level is at 0.5\n",
    "        \"\"\"\n",
    "        X_trans, y_trans = transform_pairwise(X, y)\n",
    "        return np.mean(super(RankSVM, self).predict(X_trans) == y_trans)\n",
    "\n",
    "\n",
    "if __name__ == '__main__':\n",
    "    # as showcase, we will create some non-linear data\n",
    "    # and print the performance of ranking vs linear regression\n",
    "\n",
    "    np.random.seed(1)\n",
    "    n_samples, n_features = 300, 5\n",
    "    true_coef = np.random.randn(n_features)\n",
    "    X = np.random.randn(n_samples, n_features)\n",
    "    noise = np.random.randn(n_samples) / np.linalg.norm(true_coef)\n",
    "    y = np.dot(X, true_coef)\n",
    "    y = np.arctan(y)  # add non-linearities\n",
    "    y += .1 * noise  # add noise\n",
    "    Y = np.c_[y, np.mod(np.arange(n_samples), 5)]  # add query fake id\n",
    "    cv = KFold(n_splits=5)\n",
    "    train, test = cv.split(X, y).__next__()\n",
    "\n",
    "    # make a simple plot out of it\n",
    "    import pylab as pl\n",
    "\n",
    "    pl.scatter(np.dot(X, true_coef), y)\n",
    "    pl.title('Data to be learned')\n",
    "    pl.xlabel('<X, coef>')\n",
    "    pl.ylabel('y')\n",
    "    pl.show()\n",
    "\n",
    "    # print the performance of ranking\n",
    "    rank_svm = RankSVM().fit(X[train], Y[train])\n",
    "    print('Performance of ranking ', rank_svm.score(X[test], Y[test]))\n",
    "\n",
    "    # and that of linear regression\n",
    "    ridge = linear_model.RidgeCV(fit_intercept=True)\n",
    "    ridge.fit(X[train], y[train])\n",
    "    X_test_trans, y_test_trans = transform_pairwise(X[test], y[test])\n",
    "    score = np.mean(np.sign(np.dot(X_test_trans, ridge.coef_)) == y_test_trans)\n",
    "    print('Performance of linear regression ', score)"
   ]
  },
  {
   "cell_type": "code",
   "execution_count": 156,
   "id": "dfba5b9e",
   "metadata": {
    "scrolled": true
   },
   "outputs": [],
   "source": [
    "X_trans, y_trans = transform_pairwise(np.round(test_data), cost)"
   ]
  },
  {
   "cell_type": "code",
   "execution_count": 157,
   "id": "b86622f6",
   "metadata": {},
   "outputs": [
    {
     "name": "stdout",
     "output_type": "stream",
     "text": [
      "[[ 21. -12.  -1. ...  -1.  -3.  -1.]\n",
      " [ -3.   7. -12. ...   1.   1.   0.]\n",
      " [  7.  -9.   8. ...  -2.  -1.  -1.]\n",
      " ...\n",
      " [ 10.   4.   3. ...  -2.  -3.  -3.]\n",
      " [  4.  -5.   2. ...   1.   1.   4.]\n",
      " [ 14.  -1.   5. ...  -1.  -2.   1.]] [ 1 -1  1 -1  1 -1  1 -1  1 -1  1 -1  1 -1  1 -1  1 -1  1 -1  1 -1  1 -1\n",
      "  1  1 -1  1  1 -1 -1  1 -1  1 -1  1  1 -1  1 -1 -1  1 -1 -1  1  1 -1  1\n",
      " -1  1 -1  1 -1  1 -1  1 -1  1 -1  1 -1  1 -1  1  1 -1  1 -1  1 -1  1 -1\n",
      "  1 -1  1 -1  1 -1  1 -1  1 -1]\n"
     ]
    }
   ],
   "source": [
    "print(np.round(X_trans), y_trans)"
   ]
  },
  {
   "cell_type": "code",
   "execution_count": 158,
   "id": "0c2c82fe",
   "metadata": {},
   "outputs": [
    {
     "name": "stdout",
     "output_type": "stream",
     "text": [
      "1\n",
      "the order for the rank_svm: [0 1 3 4 2 6 5]\n",
      "the order for the true cost: [0 1 3 4 2 6 5]\n",
      "1\n",
      "the order for the rank_svm: [0 1 2 4 3]\n",
      "the order for the true cost: [0 1 2 4 3]\n",
      "1\n",
      "the order for the rank_svm: [5 2 1 0 4 3]\n",
      "the order for the true cost: [5 2 1 0 4 3]\n",
      "1\n",
      "the order for the rank_svm: [1 0]\n",
      "the order for the true cost: [1 0]\n",
      "1\n",
      "the order for the rank_svm: [1 6 3 2 5 8 0 4 7]\n",
      "the order for the true cost: [1 6 3 2 5 8 0 4 7]\n"
     ]
    },
    {
     "name": "stderr",
     "output_type": "stream",
     "text": [
      "D:\\anaconda\\lib\\site-packages\\sklearn\\svm\\_base.py:1206: ConvergenceWarning: Liblinear failed to converge, increase the number of iterations.\n",
      "  warnings.warn(\n"
     ]
    }
   ],
   "source": [
    "rank_svm = RankSVM().fit(test_data, cost)\n",
    "for i in range(len(p_index)-1):\n",
    "    print(\"the order for the rank_svm:\",rank_svm.predict(test_data[p_index[i]:p_index[i+1]]))\n",
    "    print(\"the order for the true cost:\",np.argsort(cost[p_index[i]:p_index[i+1],0].flatten()))"
   ]
  },
  {
   "cell_type": "code",
   "execution_count": 93,
   "id": "aef13fb2",
   "metadata": {},
   "outputs": [
    {
     "name": "stdout",
     "output_type": "stream",
     "text": [
      "[[76  0]\n",
      " [36  0]\n",
      " [54  0]\n",
      " [94  1]\n",
      " [34  1]\n",
      " [ 3  2]\n",
      " [85  2]\n",
      " [84  3]\n",
      " [49  3]\n",
      " [55  3]\n",
      " [33  4]\n",
      " [29  4]\n",
      " [56  4]]\n"
     ]
    }
   ],
   "source": [
    "print(np.round(cost))"
   ]
  },
  {
   "cell_type": "code",
   "execution_count": 137,
   "id": "a5048832",
   "metadata": {},
   "outputs": [
    {
     "name": "stdout",
     "output_type": "stream",
     "text": [
      "Kendall rank correlation coefficient: -0.1173054587688734\n",
      "Final Kendall rank correlation coefficient: -0.1173054587688734\n",
      "[ 1 24 25 26 27 28 29 30 31 32 33 34 35 36 37 38 39 40 23 22 21 20  2  3\n",
      "  4  5  6  7  8  9 41 10 12 13 14 15 16 17 18 19 11 42]\n",
      "[39 29  2 33  4 26 36  0 16  8  6 28 23 41  9 31 12 21  1 22 30  7 20 10\n",
      "  3  5 32 37 40 38 14 11 35 24 25 27 19 34 18 13 17 15]\n"
     ]
    }
   ],
   "source": [
    "X = test_data[p_index[0]:p_index[1]]\n",
    "y = np.argsort(cost[p_index[0]:p_index[1],0].flatten())\n",
    "rankings = rankSVM(X, y, tau=1.0)\n",
    "print(rankings)\n",
    "print(y)"
   ]
  },
  {
   "cell_type": "code",
   "execution_count": 159,
   "id": "b08f8315",
   "metadata": {},
   "outputs": [],
   "source": [
    "import numpy as np\n",
    "from sklearn.linear_model import SGDClassifier\n",
    "from sklearn.model_selection import train_test_split\n",
    "\n",
    "class RankingSVM(SGDClassifier):\n",
    "    def __init__(self, *args, **kwargs):\n",
    "        super(RankingSVM, self).__init__(*args, **kwargs, loss='hinge', penalty='l2')\n",
    "\n",
    "    def transform_to_pairs(self, X, y):\n",
    "        X_pairs = []\n",
    "        y_pairs = []\n",
    "        n_samples = X.shape[0]\n",
    "\n",
    "        for i in range(n_samples):\n",
    "            for j in range(i + 1, n_samples):\n",
    "                X_pairs.append(X[i] - X[j])\n",
    "                y_pairs.append(np.sign(y[i] - y[j]))\n",
    "\n",
    "        return np.array(X_pairs), np.array(y_pairs)\n",
    "\n",
    "    def fit(self, X, y):\n",
    "        X_pairs, y_pairs = self.transform_to_pairs(X, y)\n",
    "        return super(RankingSVM, self).fit(X_pairs, y_pairs)\n",
    "\n",
    "    def predict(self, X):\n",
    "        decision_values = self.decision_function(X)\n",
    "        return np.argsort(decision_values)"
   ]
  },
  {
   "cell_type": "code",
   "execution_count": 161,
   "id": "09a47809",
   "metadata": {},
   "outputs": [
    {
     "name": "stdout",
     "output_type": "stream",
     "text": [
      "[0 1 4 3 2 6 5]\n",
      "[0 1 3 4 2 6 5]\n"
     ]
    }
   ],
   "source": [
    "X = test_data[p_index[0]:p_index[1]]\n",
    "y = np.argsort(cost[p_index[0]:p_index[1],0].flatten())\n",
    "ranksvm = RankingSVM()\n",
    "ranksvm.fit(X, y)\n",
    "print(ranksvm.predict(X))\n",
    "print(y)"
   ]
  },
  {
   "cell_type": "code",
   "execution_count": 15,
   "id": "259a1bb6",
   "metadata": {},
   "outputs": [
    {
     "name": "stdout",
     "output_type": "stream",
     "text": [
      "Ranking index of Y: [4. 3. 2. 0. 1.]\n"
     ]
    }
   ],
   "source": [
    "def ranking_from_pairwise_comparisons(X):\n",
    "    A = int((-1 + (1 + 8 * len(X))**0.5) / 2) + 1\n",
    "    scores = np.zeros(A)\n",
    "\n",
    "    idx = 0\n",
    "    for i in range(A):\n",
    "        for j in range(i + 1, A):\n",
    "            if X[idx] == 1:\n",
    "                scores[i] += 1\n",
    "            else:\n",
    "                scores[j] += 1\n",
    "            idx += 1\n",
    "\n",
    "\n",
    "    return scores\n",
    "\n",
    "# Test the algorithm with the given example\n",
    "X = [1,1,1,1,1,1,1,1,1,-1]\n",
    "Y = ranking_from_pairwise_comparisons(X)\n",
    "print(\"Ranking index of Y:\", Y)"
   ]
  },
  {
   "cell_type": "code",
   "execution_count": null,
   "id": "8724b1db",
   "metadata": {},
   "outputs": [],
   "source": []
  }
 ],
 "metadata": {
  "kernelspec": {
   "display_name": "Python 3 (ipykernel)",
   "language": "python",
   "name": "python3"
  },
  "language_info": {
   "codemirror_mode": {
    "name": "ipython",
    "version": 3
   },
   "file_extension": ".py",
   "mimetype": "text/x-python",
   "name": "python",
   "nbconvert_exporter": "python",
   "pygments_lexer": "ipython3",
   "version": "3.9.13"
  },
  "vscode": {
   "interpreter": {
    "hash": "f8dfbf299046a8c4b2110a11b95a75110c24cb97ab3ce5dec25bf2ee93348e3b"
   }
  }
 },
 "nbformat": 4,
 "nbformat_minor": 5
}
