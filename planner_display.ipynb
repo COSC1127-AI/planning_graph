{
 "cells": [
  {
   "cell_type": "code",
   "execution_count": 12,
   "metadata": {},
   "outputs": [
    {
     "name": "stdout",
     "output_type": "stream",
     "text": [
      "The autoreload extension is already loaded. To reload it, use:\n",
      "  %reload_ext autoreload\n"
     ]
    }
   ],
   "source": [
    "#%%\n",
    "\n",
    "%load_ext autoreload\n",
    "%autoreload 2\n"
   ]
  },
  {
   "cell_type": "code",
   "execution_count": 33,
   "metadata": {
    "scrolled": true
   },
   "outputs": [],
   "source": [
    "# F:\\@uni_life\\@COMP3770\\@project\\pddl-plan-database\\ipc\\benchmarks\\ipc-2018\\domains\\agricola is out of range\n",
    "# F:\\@uni_life\\@COMP3770\\@project\\pddl-plan-database\\ipc\\benchmarks\\ipc-2008\\domains\\elevator is out of range\n",
    "# F:\\@uni_life\\@COMP3770\\@project\\pddl-plan-database\\htg\\benchmarks\\blocksworld-large-simple is taking too long\n",
    "# F:\\@uni_life\\@COMP3770\\@project\\pddl-plan-database\\hgn\\benchmarks\\blocks works fine\n",
    "# F:\\@uni_life\\@COMP3770\\@project\\pddl-plan-database\\hgn\\benchmarks\\zenotravel\n",
    "from planning_graph.planning_graph import PlanningGraph\n",
    "\n",
    "\n",
    "planning_graph = PlanningGraph('domain/zenotravel/domain.pddl', \n",
    "                               'domain/zenotravel/instances/zenotravel-cities2-planes2-people3-2168.pddl',\n",
    "                               visualize=True)\n",
    "\n",
    "graph = planning_graph.create(max_num_of_levels=10)"
   ]
  },
  {
   "cell_type": "code",
   "execution_count": 35,
   "metadata": {},
   "outputs": [],
   "source": [
    "# test0 is the default test\n",
    "# test1 is the blocks from bgn\n",
    "# test2 is the zenotravel from bgn\n",
    "graph.visualize_png(\"test2-zenotravel_instance_2168.png\")"
   ]
  },
  {
   "cell_type": "code",
   "execution_count": null,
   "metadata": {},
   "outputs": [],
   "source": []
  }
 ],
 "metadata": {
  "kernelspec": {
   "display_name": "Python 3 (ipykernel)",
   "language": "python",
   "name": "python3"
  },
  "language_info": {
   "codemirror_mode": {
    "name": "ipython",
    "version": 3
   },
   "file_extension": ".py",
   "mimetype": "text/x-python",
   "name": "python",
   "nbconvert_exporter": "python",
   "pygments_lexer": "ipython3",
   "version": "3.9.13"
  }
 },
 "nbformat": 4,
 "nbformat_minor": 2
}
